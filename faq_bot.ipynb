{
 "cells": [
  {
   "cell_type": "markdown",
   "metadata": {},
   "source": [
    "# Set up Ollama"
   ]
  },
  {
   "cell_type": "code",
   "execution_count": 36,
   "metadata": {},
   "outputs": [
    {
     "name": "stdout",
     "output_type": "stream",
     "text": [
      "It's nice to meet you. Is there something I can help you with or would you like to chat?\n"
     ]
    }
   ],
   "source": [
    "import ollama\n",
    "\n",
    "response = ollama.generate(model='llama3.1', prompt='Hi')\n",
    "print(response['response'])"
   ]
  },
  {
   "cell_type": "markdown",
   "metadata": {},
   "source": [
    "# Testing basic knowledge of the LLM"
   ]
  },
  {
   "cell_type": "code",
   "execution_count": 39,
   "metadata": {},
   "outputs": [
    {
     "name": "stdout",
     "output_type": "stream",
     "text": [
      "response 1 👇👇👇\n",
      "I couldn't find any information on a company called \"Game Hours\" that I'm aware of. It's possible it's a small or private company, or it might be a fictional entity.\n",
      "\n",
      "However, there are several companies with similar names such as \"GameHour,\" \"Game Hour,\" or \"GameHours\" that might be related to gaming or entertainment. If you could provide more context or details about the Game Hours you're referring to, I'd be happy to try and help further!\n",
      "\n",
      "\n",
      "response 2 👇👇👇\n",
      "I don't have information on \"Game Hours\" as it seems to be a generic term rather than an actual company or brand. If you meant a different entity, please let me know and I'll do my best to provide more accurate information.\n"
     ]
    }
   ],
   "source": [
    "\n",
    "response = ollama.generate(model='llama3.1', prompt='Who is the CEO of Game Hours?')\n",
    "print('response 1 👇👇👇')\n",
    "print(response['response'])\n",
    "\n",
    "response = ollama.generate(model='llama3.1', prompt='What is the latest product of Game Hours?')\n",
    "print('\\n\\nresponse 2 👇👇👇')\n",
    "print(response['response'])"
   ]
  },
  {
   "cell_type": "markdown",
   "metadata": {},
   "source": [
    "# Set up ChromaDB client"
   ]
  },
  {
   "cell_type": "code",
   "execution_count": 10,
   "metadata": {},
   "outputs": [],
   "source": [
    "import chromadb\n",
    "\n",
    "client = chromadb.Client()"
   ]
  },
  {
   "cell_type": "markdown",
   "metadata": {},
   "source": [
    "# Set up embedding function"
   ]
  },
  {
   "cell_type": "code",
   "execution_count": 11,
   "metadata": {},
   "outputs": [],
   "source": [
    "import chromadb.utils.embedding_functions as embedding_functions\n",
    "\n",
    "ollama_ef = embedding_functions.OllamaEmbeddingFunction(\n",
    "    url=\"http://localhost:11434/api/embeddings\",\n",
    "    model_name=\"nomic-embed-text\",\n",
    ")"
   ]
  },
  {
   "cell_type": "markdown",
   "metadata": {},
   "source": [
    "# Create a new collection"
   ]
  },
  {
   "cell_type": "code",
   "execution_count": 12,
   "metadata": {},
   "outputs": [],
   "source": [
    "instructor_collection = client.create_collection(\n",
    "    name=\"faq_embeddings\", embedding_function=ollama_ef)"
   ]
  },
  {
   "cell_type": "markdown",
   "metadata": {},
   "source": [
    "# Adding FAQ documents"
   ]
  },
  {
   "cell_type": "code",
   "execution_count": 15,
   "metadata": {},
   "outputs": [],
   "source": [
    "faq_documents = [\n",
    "    \"The CEO of Game Hours is 許書綺.\",\n",
    "    \"The latest product of Game Hours is Worky.\"\n",
    "]\n",
    "\n",
    "instructor_collection.add(\n",
    "    documents=faq_documents,\n",
    "    ids=[str(i) for i in range(len(faq_documents))]\n",
    ")"
   ]
  },
  {
   "cell_type": "markdown",
   "metadata": {},
   "source": [
    "# Querying ChromaDB before asking the LLM"
   ]
  },
  {
   "cell_type": "code",
   "execution_count": 32,
   "metadata": {},
   "outputs": [],
   "source": [
    "def faq_bot(query):\n",
    "    relevant_docs = instructor_collection.query(\n",
    "        query_texts=[query],\n",
    "        n_results=1\n",
    "    )\n",
    "\n",
    "    response = ollama.generate(model='llama3.1',\n",
    "                               prompt=f'answer the question: ```{query}```, considering the following context: ```{relevant_docs}```. Keep the answer concise and under 10 words.'\n",
    "                               )\n",
    "    print(response['response'])"
   ]
  },
  {
   "cell_type": "markdown",
   "metadata": {},
   "source": [
    "# Answering questions"
   ]
  },
  {
   "cell_type": "code",
   "execution_count": 42,
   "metadata": {},
   "outputs": [
    {
     "name": "stdout",
     "output_type": "stream",
     "text": [
      "\n",
      "Q1 👇👇👇\n",
      "What is the latest product of Game Hours?\n",
      "The latest product of Game Hours is Worky.\n",
      "\n",
      "Q2 👇👇👇\n",
      "Game Hours 最新產品是什麼?\n",
      "Game Hours 最新產品是 Worky。\n",
      "\n",
      "Q3 👇👇👇\n",
      "Who is the CEO of Game Hours?\n",
      "The CEO of Game Hours is 許書綺.\n",
      "\n",
      "Q4 👇👇👇\n",
      "Who is the Boss of Game Hours?\n",
      "The CEO of Game Hours is 許書綺.\n",
      "\n",
      "Q5 👇👇👇\n",
      "誰是 Game Hours 的老闆?\n",
      "許書綺是Game Hours的老闆。\n"
     ]
    }
   ],
   "source": [
    "questions = [\n",
    "    \"What is the latest product of Game Hours?\",\n",
    "    \"Game Hours 最新產品是什麼?\",\n",
    "    \"Who is the CEO of Game Hours?\",\n",
    "    \"Who is the Boss of Game Hours?\",\n",
    "    \"誰是 Game Hours 的老闆?\",\n",
    "]\n",
    "\n",
    "for i in range(len(questions)):\n",
    "    print(f'\\nQ{i+1} 👇👇👇\\n{questions[i]}')\n",
    "    faq_bot(questions[i])"
   ]
  }
 ],
 "metadata": {
  "kernelspec": {
   "display_name": ".venv",
   "language": "python",
   "name": "python3"
  },
  "language_info": {
   "codemirror_mode": {
    "name": "ipython",
    "version": 3
   },
   "file_extension": ".py",
   "mimetype": "text/x-python",
   "name": "python",
   "nbconvert_exporter": "python",
   "pygments_lexer": "ipython3",
   "version": "3.11.3"
  }
 },
 "nbformat": 4,
 "nbformat_minor": 2
}
